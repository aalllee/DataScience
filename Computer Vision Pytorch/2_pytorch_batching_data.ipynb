{
 "cells": [
  {
   "cell_type": "code",
   "execution_count": 1,
   "id": "cc392dd5-5d4c-4608-946f-a9ad56f7844e",
   "metadata": {},
   "outputs": [],
   "source": [
    "from torch.utils.data import Dataset, DataLoader\n",
    "import torch\n",
    "import torch.nn as nn"
   ]
  },
  {
   "cell_type": "markdown",
   "id": "195a8958-143c-4465-92de-1019f908e11e",
   "metadata": {},
   "source": [
    "### NOTES ON GRADIENT COMPUTATION USING BATCH DATA AS AN INPUT\n",
    "\n",
    "During training, a batch of data is passed through the model,\n",
    "which produces predictions for each item in the batch.\n",
    "The loss is then calculated by comparing these predictions to the\n",
    "target values for each data point in the batch, resulting in a vector of individual losses.\n",
    "This vector is usually averaged or summed to get a single scalar loss for the entire batch.\n",
    "When .backward() is called on this scalar loss, the gradients are computed with respect to\n",
    "each model parameter, based on the averaged (or summed) loss for the batch. This gives the\n",
    "gradient of the batch loss with respect to each parameter."
   ]
  },
  {
   "cell_type": "code",
   "execution_count": 2,
   "id": "c87d3bd0-d4ba-4625-b981-c8777659957f",
   "metadata": {},
   "outputs": [],
   "source": [
    "x = [[1,2],[3,4],[5,6],[7,8]]\n",
    "y = [[3],[7],[11],[15]]"
   ]
  },
  {
   "cell_type": "code",
   "execution_count": 3,
   "id": "1083cc92-7f49-415d-a856-b54991553129",
   "metadata": {},
   "outputs": [],
   "source": [
    "X = torch.tensor(x).float()\n",
    "Y = torch.tensor(y).float()"
   ]
  },
  {
   "cell_type": "code",
   "execution_count": 4,
   "id": "f1c791af-05be-4e87-adc4-8d8b46ef7167",
   "metadata": {},
   "outputs": [],
   "source": [
    "device = 'cuda' if torch.cuda.is_available() else 'cpu'\n",
    "X = X.to(device)\n",
    "Y = Y.to(device)"
   ]
  },
  {
   "cell_type": "code",
   "execution_count": 5,
   "id": "399f10c6-5ed3-44bb-8e56-237d6ba02d9d",
   "metadata": {},
   "outputs": [
    {
     "name": "stdout",
     "output_type": "stream",
     "text": [
      "4\n",
      "(tensor([3., 4.]), tensor([7.]))\n"
     ]
    }
   ],
   "source": [
    "class MyDataset(Dataset):\n",
    "    def __init__(self,x,y):\n",
    "        self.x = x.clone().detach().float()\n",
    "        self.y = y.clone().detach().float()\n",
    "    def __len__(self):\n",
    "        return len(self.x)\n",
    "    def __getitem__(self, ix):\n",
    "        return self.x[ix], self.y[ix]\n",
    "\n",
    "ds = MyDataset(X,Y)\n",
    "print(len(ds)) #number of datapoints in the dataset\n",
    "\n",
    "\n",
    "print(ds[1]) #second entry in the dataset"
   ]
  },
  {
   "cell_type": "code",
   "execution_count": 6,
   "id": "4bd6ee53-226a-443b-a6ab-e577a5512422",
   "metadata": {},
   "outputs": [
    {
     "name": "stdout",
     "output_type": "stream",
     "text": [
      "Batch X: tensor([[1., 2.],\n",
      "        [7., 8.]])\n",
      "Batch Y: tensor([[ 3.],\n",
      "        [15.]])\n",
      "Batch X: tensor([[5., 6.],\n",
      "        [3., 4.]])\n",
      "Batch Y: tensor([[11.],\n",
      "        [ 7.]])\n"
     ]
    }
   ],
   "source": [
    "dl = DataLoader(ds, batch_size=2, shuffle=True)\n",
    "\n",
    "\n",
    "for batch_x, batch_y in dl:\n",
    "    print(\"Batch X:\", batch_x)\n",
    "    print(\"Batch Y:\", batch_y)"
   ]
  },
  {
   "cell_type": "code",
   "execution_count": 7,
   "id": "681b0e6e-0935-4326-94aa-2d3a6233d254",
   "metadata": {},
   "outputs": [],
   "source": [
    "class MyNeuralNet(nn.Module):\n",
    "    def __init__(self):\n",
    "        super().__init__()\n",
    "        self.input_to_hidden_layer = nn.Linear(2,8)\n",
    "        self.hidden_layer_activation = nn.ReLU()\n",
    "        self.hidden_to_output_layer = nn.Linear(8,1)\n",
    "    def forward(self, x):\n",
    "        x = self.input_to_hidden_layer(x)\n",
    "        x = self.hidden_layer_activation(x)\n",
    "        x = self.hidden_to_output_layer(x)\n",
    "        return x"
   ]
  },
  {
   "cell_type": "code",
   "execution_count": 8,
   "id": "a5ff26ee-067c-4f6e-8716-08037eadc457",
   "metadata": {},
   "outputs": [],
   "source": [
    "mynet = MyNeuralNet().to(device)\n",
    "loss_func = nn.MSELoss()\n",
    "from torch.optim import SGD\n",
    "opt = SGD(mynet.parameters(), lr = 0.001)"
   ]
  },
  {
   "cell_type": "code",
   "execution_count": 9,
   "id": "3f72911e-f86d-4a71-98c8-61ea6fd148e2",
   "metadata": {},
   "outputs": [
    {
     "name": "stdout",
     "output_type": "stream",
     "text": [
      "0.05105710029602051\n"
     ]
    }
   ],
   "source": [
    "import time\n",
    "loss_history = []\n",
    "start = time.time()\n",
    "for _ in range(50):\n",
    "    for data in dl:\n",
    "        x, y = data\n",
    "        opt.zero_grad()\n",
    "        loss_value = loss_func(mynet(x),y)\n",
    "        loss_value.backward()\n",
    "        opt.step()\n",
    "        loss_history.append(loss_value.item())\n",
    "end = time.time()\n",
    "print(end - start)"
   ]
  },
  {
   "cell_type": "code",
   "execution_count": 10,
   "id": "42d34b70-2405-4a2f-9d39-c3bad8e61fba",
   "metadata": {},
   "outputs": [
    {
     "data": {
      "text/plain": [
       "tensor([[21.1599]], grad_fn=<AddmmBackward0>)"
      ]
     },
     "execution_count": 10,
     "metadata": {},
     "output_type": "execute_result"
    }
   ],
   "source": [
    "#PREDICTING NEW VALUE\n",
    "val_x = [[10,11]]\n",
    "val_x = torch.tensor(val_x).float().to(device)\n",
    "mynet(val_x)"
   ]
  },
  {
   "cell_type": "markdown",
   "id": "b842656b-b80c-4fa1-b046-cc00d052642e",
   "metadata": {},
   "source": [
    "Saving the model"
   ]
  },
  {
   "cell_type": "code",
   "execution_count": 11,
   "id": "f8c88644-bda7-447c-b333-8cd9e4d75979",
   "metadata": {},
   "outputs": [],
   "source": [
    "mynet.state_dict()\n",
    "torch.save(mynet.to('cpu').state_dict(), 'mymodel.pth')"
   ]
  },
  {
   "cell_type": "code",
   "execution_count": null,
   "id": "2a4232a8-0b6a-4a18-b925-bdc1cd2bd8de",
   "metadata": {},
   "outputs": [],
   "source": []
  }
 ],
 "metadata": {
  "kernelspec": {
   "display_name": "Python 3 (ipykernel)",
   "language": "python",
   "name": "python3"
  },
  "language_info": {
   "codemirror_mode": {
    "name": "ipython",
    "version": 3
   },
   "file_extension": ".py",
   "mimetype": "text/x-python",
   "name": "python",
   "nbconvert_exporter": "python",
   "pygments_lexer": "ipython3",
   "version": "3.12.4"
  }
 },
 "nbformat": 4,
 "nbformat_minor": 5
}
