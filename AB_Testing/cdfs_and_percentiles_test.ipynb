{
 "cells": [
  {
   "cell_type": "markdown",
   "id": "8f35c2c6-3c56-4a68-96fa-1b9b4efaa956",
   "metadata": {},
   "source": [
    "### Basic percentile calculations on (fake) gaussian height data"
   ]
  },
  {
   "cell_type": "code",
   "execution_count": 1,
   "id": "15bb2672-9431-4663-be11-11a4b4ab2a93",
   "metadata": {},
   "outputs": [],
   "source": [
    "import numpy as np\n",
    "import matplotlib.pyplot as plt\n",
    "from scipy.stats import norm\n",
    "np.random.seed(0)"
   ]
  },
  {
   "cell_type": "code",
   "execution_count": 3,
   "id": "4fc3f584-b3ea-4521-b01c-550fe71dcfdd",
   "metadata": {},
   "outputs": [],
   "source": [
    "mu = 170\n",
    "sd = 7\n",
    "x = norm.rvs(loc=mu,scale=sd,size=100)\n"
   ]
  },
  {
   "cell_type": "code",
   "execution_count": 4,
   "id": "a4032d90-9e25-4bcf-a60f-d2571c17078b",
   "metadata": {},
   "outputs": [
    {
     "data": {
      "text/plain": [
       "np.float64(170.41865610874137)"
      ]
     },
     "execution_count": 4,
     "metadata": {},
     "output_type": "execute_result"
    }
   ],
   "source": [
    "x.mean()"
   ]
  },
  {
   "cell_type": "code",
   "execution_count": 5,
   "id": "01bc4d03-e5ba-4a3d-afcc-74604e5750db",
   "metadata": {},
   "outputs": [
    {
     "data": {
      "text/plain": [
       "np.float64(49.77550434153163)"
      ]
     },
     "execution_count": 5,
     "metadata": {},
     "output_type": "execute_result"
    }
   ],
   "source": [
    "x.var()"
   ]
  },
  {
   "cell_type": "code",
   "execution_count": 10,
   "id": "5f50d45f-7117-4d01-adb3-b3637fbe9826",
   "metadata": {},
   "outputs": [
    {
     "name": "stdout",
     "output_type": "stream",
     "text": [
      "181.5139753886603\n"
     ]
    }
   ],
   "source": [
    "#At what height is a person above 95th percentile\n",
    "print(norm.ppf(0.95,loc=mu,scale=sd))"
   ]
  },
  {
   "cell_type": "code",
   "execution_count": 11,
   "id": "b5ed0fbf-8d70-4985-a12f-fc136e52f10c",
   "metadata": {},
   "outputs": [
    {
     "name": "stdout",
     "output_type": "stream",
     "text": [
      "0.07656372550983474\n"
     ]
    }
   ],
   "source": [
    "#What percentile is a 160cm person in?\n",
    "print(norm.cdf(160, loc=mu, scale=sd))"
   ]
  },
  {
   "cell_type": "code",
   "execution_count": 17,
   "id": "94b8bbd7-94bf-4fda-95b3-2c51fb5ae240",
   "metadata": {},
   "outputs": [
    {
     "name": "stdout",
     "output_type": "stream",
     "text": [
      "0.0765637255098347\n",
      "0.07656372550983474\n"
     ]
    }
   ],
   "source": [
    "#what is the probability that someone is taller than 180cm\n",
    "print(1 - norm.cdf(180,loc=mu,scale=sd))\n",
    "\n",
    "#or => norm.sf == 1 - norm.cdf (survival function)\n",
    "print(norm.sf(180,loc=mu,scale=sd))"
   ]
  }
 ],
 "metadata": {
  "kernelspec": {
   "display_name": "Python 3 (ipykernel)",
   "language": "python",
   "name": "python3"
  },
  "language_info": {
   "codemirror_mode": {
    "name": "ipython",
    "version": 3
   },
   "file_extension": ".py",
   "mimetype": "text/x-python",
   "name": "python",
   "nbconvert_exporter": "python",
   "pygments_lexer": "ipython3",
   "version": "3.12.4"
  }
 },
 "nbformat": 4,
 "nbformat_minor": 5
}
